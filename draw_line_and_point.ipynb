{
 "cells": [
  {
   "cell_type": "markdown",
   "metadata": {},
   "source": [
    "Read and Show Image"
   ]
  },
  {
   "cell_type": "markdown",
   "metadata": {},
   "source": [
    "Step01: Import Library"
   ]
  },
  {
   "cell_type": "code",
   "execution_count": 39,
   "metadata": {
    "collapsed": true
   },
   "outputs": [],
   "source": [
    "import cv2"
   ]
  },
  {
   "cell_type": "markdown",
   "metadata": {},
   "source": [
    "Step02: read image file"
   ]
  },
  {
   "cell_type": "code",
   "execution_count": 40,
   "metadata": {
    "collapsed": true
   },
   "outputs": [],
   "source": [
    "img_path = \"C:/Users/xilinx/1_myPythonWork/datasets/image/2.jpg\"\n",
    "\n",
    "def read_img():\n",
    "    image = cv2.imread(img_path, 1)\n",
    "    return image\n",
    "\n",
    "img = read_img()"
   ]
  },
  {
   "cell_type": "markdown",
   "metadata": {},
   "source": [
    "Step03: Draw Line"
   ]
  },
  {
   "cell_type": "code",
   "execution_count": 41,
   "metadata": {},
   "outputs": [
    {
     "data": {
      "text/plain": [
       "array([[[  0, 255,   0],\n",
       "        [ 24,  26,  61],\n",
       "        [ 24,  26,  61],\n",
       "        ..., \n",
       "        [ 47,  64, 107],\n",
       "        [ 55,  78, 124],\n",
       "        [ 58,  84, 131]],\n",
       "\n",
       "       [[ 29,  31,  66],\n",
       "        [  0, 255,   0],\n",
       "        [ 28,  30,  65],\n",
       "        ..., \n",
       "        [ 48,  65, 108],\n",
       "        [ 52,  75, 121],\n",
       "        [ 53,  78, 128]],\n",
       "\n",
       "       [[ 35,  35,  71],\n",
       "        [ 33,  33,  69],\n",
       "        [  0, 255,   0],\n",
       "        ..., \n",
       "        [ 40,  56, 102],\n",
       "        [ 40,  62, 110],\n",
       "        [ 40,  65, 115]],\n",
       "\n",
       "       ..., \n",
       "       [[171, 210, 238],\n",
       "        [160, 198, 230],\n",
       "        [165, 201, 239],\n",
       "        ..., \n",
       "        [ 34,  32,  61],\n",
       "        [ 26,  24,  53],\n",
       "        [ 40,  38,  67]],\n",
       "\n",
       "       [[172, 211, 239],\n",
       "        [164, 199, 232],\n",
       "        [170, 203, 242],\n",
       "        ..., \n",
       "        [ 35,  33,  62],\n",
       "        [ 27,  25,  54],\n",
       "        [ 42,  40,  69]],\n",
       "\n",
       "       [[175, 212, 240],\n",
       "        [166, 201, 234],\n",
       "        [173, 206, 245],\n",
       "        ..., \n",
       "        [ 36,  34,  64],\n",
       "        [ 29,  27,  57],\n",
       "        [ 44,  42,  72]]], dtype=uint8)"
      ]
     },
     "execution_count": 41,
     "metadata": {},
     "output_type": "execute_result"
    }
   ],
   "source": [
    "# Draw a diagonal blue line with thickness of 1 px\n",
    "cv2.line(img,(0,0),(200,200),(0,255,0),1)\n",
    "\n",
    "cv2.rectangle(img,(200,200),(250,250),(255,0,0),1)\n",
    "\n",
    "cv2.circle(img,(200,200), 6, (0,0,255), -1)"
   ]
  },
  {
   "cell_type": "markdown",
   "metadata": {},
   "source": [
    "Step03: show image"
   ]
  },
  {
   "cell_type": "code",
   "execution_count": 42,
   "metadata": {
    "collapsed": true
   },
   "outputs": [],
   "source": [
    "cv2.imshow('image',img)\n",
    "cv2.waitKey(0)\n",
    "cv2.destroyAllWindows()"
   ]
  }
 ],
 "metadata": {
  "kernelspec": {
   "display_name": "Python 3",
   "language": "python",
   "name": "python3"
  },
  "language_info": {
   "codemirror_mode": {
    "name": "ipython",
    "version": 3
   },
   "file_extension": ".py",
   "mimetype": "text/x-python",
   "name": "python",
   "nbconvert_exporter": "python",
   "pygments_lexer": "ipython3",
   "version": "3.6.2"
  }
 },
 "nbformat": 4,
 "nbformat_minor": 2
}
